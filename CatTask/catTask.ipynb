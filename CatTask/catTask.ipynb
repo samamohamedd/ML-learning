{
 "cells": [
  {
   "cell_type": "markdown",
   "metadata": {},
   "source": [
    "#### importing needed libraries"
   ]
  },
  {
   "cell_type": "code",
   "execution_count": 82,
   "metadata": {},
   "outputs": [],
   "source": [
    "import numpy as np\n",
    "import pandas as pd\n",
    "import matplotlib.pyplot as plt\n",
    "import seaborn as sns\n",
    "from sklearn.impute import SimpleImputer\n",
    "import helper\n",
    "import re \n",
    "from datetime import datetime\n",
    "from sklearn.preprocessing import StandardScaler"
   ]
  },
  {
   "cell_type": "markdown",
   "metadata": {},
   "source": [
    "#### loading data"
   ]
  },
  {
   "cell_type": "code",
   "execution_count": 40,
   "metadata": {},
   "outputs": [
    {
     "data": {
      "text/html": [
       "<div>\n",
       "<style scoped>\n",
       "    .dataframe tbody tr th:only-of-type {\n",
       "        vertical-align: middle;\n",
       "    }\n",
       "\n",
       "    .dataframe tbody tr th {\n",
       "        vertical-align: top;\n",
       "    }\n",
       "\n",
       "    .dataframe thead th {\n",
       "        text-align: right;\n",
       "    }\n",
       "</style>\n",
       "<table border=\"1\" class=\"dataframe\">\n",
       "  <thead>\n",
       "    <tr style=\"text-align: right;\">\n",
       "      <th></th>\n",
       "      <th>ID</th>\n",
       "      <th>Brand</th>\n",
       "      <th>VehicleModel</th>\n",
       "      <th>ManufacturingYear</th>\n",
       "      <th>Type</th>\n",
       "      <th>rating</th>\n",
       "      <th>color</th>\n",
       "      <th>Duty</th>\n",
       "      <th>fuel</th>\n",
       "      <th>CylinderCount</th>\n",
       "      <th>type of gear</th>\n",
       "      <th>capacity</th>\n",
       "      <th>Odometer</th>\n",
       "      <th>#airbags</th>\n",
       "      <th>price</th>\n",
       "    </tr>\n",
       "  </thead>\n",
       "  <tbody>\n",
       "    <tr>\n",
       "      <th>0</th>\n",
       "      <td>2624</td>\n",
       "      <td>NaN</td>\n",
       "      <td>I have the fastest model ever.. yes you got it...</td>\n",
       "      <td>2017</td>\n",
       "      <td>WOOW Sedan</td>\n",
       "      <td>0.0</td>\n",
       "      <td>NaN</td>\n",
       "      <td>I had to pay a substantial $1249 levy on my ne...</td>\n",
       "      <td>Gas</td>\n",
       "      <td>4.0</td>\n",
       "      <td>R</td>\n",
       "      <td>2.5</td>\n",
       "      <td>75492 KM</td>\n",
       "      <td>1008</td>\n",
       "      <td>21012</td>\n",
       "    </tr>\n",
       "    <tr>\n",
       "      <th>1</th>\n",
       "      <td>14392</td>\n",
       "      <td>I love TOYOTA</td>\n",
       "      <td>NaN</td>\n",
       "      <td>NaN</td>\n",
       "      <td>Minivan3</td>\n",
       "      <td>5.0</td>\n",
       "      <td>Metallic</td>\n",
       "      <td>-</td>\n",
       "      <td>Gas</td>\n",
       "      <td>4.0 cyl</td>\n",
       "      <td>R</td>\n",
       "      <td>2.4</td>\n",
       "      <td>220000 KM</td>\n",
       "      <td>-96</td>\n",
       "      <td>11917</td>\n",
       "    </tr>\n",
       "    <tr>\n",
       "      <th>2</th>\n",
       "      <td>9822</td>\n",
       "      <td>hyundai</td>\n",
       "      <td>H1</td>\n",
       "      <td>2009</td>\n",
       "      <td>MINIVAN</td>\n",
       "      <td>0.0</td>\n",
       "      <td>Metallic</td>\n",
       "      <td>1185$</td>\n",
       "      <td>Dies</td>\n",
       "      <td>4.0</td>\n",
       "      <td>R</td>\n",
       "      <td>2.5</td>\n",
       "      <td>TOTAL 50653 km</td>\n",
       "      <td>4 count</td>\n",
       "      <td>22433</td>\n",
       "    </tr>\n",
       "    <tr>\n",
       "      <th>3</th>\n",
       "      <td>17123</td>\n",
       "      <td>opel</td>\n",
       "      <td>Corsa</td>\n",
       "      <td>NaN</td>\n",
       "      <td>Hatchback</td>\n",
       "      <td>5.0</td>\n",
       "      <td>Jet Black</td>\n",
       "      <td>-</td>\n",
       "      <td>NaN</td>\n",
       "      <td>4.0</td>\n",
       "      <td>auto</td>\n",
       "      <td>0</td>\n",
       "      <td>230000 KM</td>\n",
       "      <td>0</td>\n",
       "      <td>5645</td>\n",
       "    </tr>\n",
       "    <tr>\n",
       "      <th>4</th>\n",
       "      <td>11133</td>\n",
       "      <td>subaru</td>\n",
       "      <td>I own Outback.</td>\n",
       "      <td>2007</td>\n",
       "      <td>Hatchback</td>\n",
       "      <td>4.0</td>\n",
       "      <td>Sapphire Blue</td>\n",
       "      <td>-</td>\n",
       "      <td>Gas</td>\n",
       "      <td>4.0</td>\n",
       "      <td>NaN</td>\n",
       "      <td>2.5</td>\n",
       "      <td>131000 KM</td>\n",
       "      <td>4</td>\n",
       "      <td>10976</td>\n",
       "    </tr>\n",
       "  </tbody>\n",
       "</table>\n",
       "</div>"
      ],
      "text/plain": [
       "      ID          Brand                                       VehicleModel  \\\n",
       "0   2624            NaN  I have the fastest model ever.. yes you got it...   \n",
       "1  14392  I love TOYOTA                                                NaN   \n",
       "2   9822        hyundai                                                 H1   \n",
       "3  17123           opel                                              Corsa   \n",
       "4  11133         subaru                                     I own Outback.   \n",
       "\n",
       "  ManufacturingYear        Type  rating          color  \\\n",
       "0              2017  WOOW Sedan     0.0            NaN   \n",
       "1               NaN    Minivan3     5.0       Metallic   \n",
       "2              2009     MINIVAN     0.0       Metallic   \n",
       "3               NaN   Hatchback     5.0      Jet Black   \n",
       "4              2007   Hatchback     4.0  Sapphire Blue   \n",
       "\n",
       "                                                Duty  fuel CylinderCount  \\\n",
       "0  I had to pay a substantial $1249 levy on my ne...   Gas           4.0   \n",
       "1                                                  -   Gas       4.0 cyl   \n",
       "2                                              1185$  Dies           4.0   \n",
       "3                                                  -   NaN           4.0   \n",
       "4                                                  -   Gas           4.0   \n",
       "\n",
       "  type of gear capacity        Odometer #airbags  price  \n",
       "0            R      2.5        75492 KM     1008  21012  \n",
       "1            R      2.4       220000 KM      -96  11917  \n",
       "2            R      2.5  TOTAL 50653 km  4 count  22433  \n",
       "3         auto        0       230000 KM      0     5645  \n",
       "4          NaN      2.5       131000 KM      4    10976  "
      ]
     },
     "execution_count": 40,
     "metadata": {},
     "output_type": "execute_result"
    }
   ],
   "source": [
    "df = pd.read_csv(\"dataset/train.csv\")\n",
    "\n",
    "df.head()"
   ]
  },
  {
   "cell_type": "markdown",
   "metadata": {},
   "source": [
    "#### Exploring the data"
   ]
  },
  {
   "cell_type": "code",
   "execution_count": 41,
   "metadata": {},
   "outputs": [
    {
     "data": {
      "text/plain": [
       "(7000, 15)"
      ]
     },
     "execution_count": 41,
     "metadata": {},
     "output_type": "execute_result"
    }
   ],
   "source": [
    "df.shape"
   ]
  },
  {
   "cell_type": "code",
   "execution_count": 42,
   "metadata": {},
   "outputs": [
    {
     "name": "stdout",
     "output_type": "stream",
     "text": [
      " ID\n",
      "2624     1\n",
      "12791    1\n",
      "1287     1\n",
      "8570     1\n",
      "7855     1\n",
      "        ..\n",
      "7105     1\n",
      "3546     1\n",
      "17713    1\n",
      "2135     1\n",
      "17637    1\n",
      "Name: count, Length: 7000, dtype: int64 int64 \n",
      " \n",
      " Brand\n",
      "NaN                   706\n",
      "toyota                497\n",
      "hyundai               486\n",
      "TOYOTA                370\n",
      "HYUNDAI               364\n",
      "                     ... \n",
      "SCION                   1\n",
      "ROLLS-ROYCE             1\n",
      "DAEWOO is the best      1\n",
      "I love CITROEN          1\n",
      "Jaguar                  1\n",
      "Name: count, Length: 186, dtype: int64 object \n",
      " \n",
      " VehicleModel\n",
      "NaN                      697\n",
      "Prius                    113\n",
      "Sonata                   104\n",
      "Elantra                   96\n",
      "FIT                       96\n",
      "                        ... \n",
      "Mazda 6 Grand Touring      1\n",
      "I own Clio.                1\n",
      "500 Abarth                 1\n",
      "I own Quest.               1\n",
      "I own X-type.              1\n",
      "Name: count, Length: 1481, dtype: int64 object \n",
      " \n",
      " ManufacturingYear\n",
      "NaN      695\n",
      "2012     429\n",
      "2014     425\n",
      "2013     398\n",
      "2011     349\n",
      "        ... \n",
      "2008|      1\n",
      "2011*      1\n",
      "2005>      1\n",
      "2004_      1\n",
      "1998)      1\n",
      "Name: count, Length: 556, dtype: int64 object \n",
      " \n",
      " Type\n",
      "sedan         1160\n",
      "SEDAN          850\n",
      "jeep           691\n",
      "NaN            685\n",
      "JEEP           501\n",
      "              ... \n",
      "Pickup1          1\n",
      "Universal4       1\n",
      "Coupe2           1\n",
      "Pickup3          1\n",
      "Pickup0          1\n",
      "Name: count, Length: 82, dtype: int64 object \n",
      " \n",
      " rating\n",
      " 2.0     1248\n",
      " 3.0     1175\n",
      " 1.0      935\n",
      " 4.0      925\n",
      " 0.0      857\n",
      " NaN      690\n",
      " 5.0      609\n",
      " 6.0      274\n",
      "-1.0      108\n",
      " 7.0       94\n",
      " 8.0       35\n",
      "-2.0       30\n",
      "-3.0       11\n",
      " 9.0        7\n",
      " 10.0       1\n",
      "-4.0        1\n",
      "Name: count, dtype: int64 float64 \n",
      " \n",
      " color\n",
      "NaN              2124\n",
      "Jet Black        1239\n",
      "Pearl White      1083\n",
      "Metallic          995\n",
      "Charcoal          628\n",
      "Sapphire Blue     371\n",
      "Crimson           166\n",
      "Emerald Green      77\n",
      "Tangerine          66\n",
      "Gold               49\n",
      "Chocolate          47\n",
      "Ruby Red           44\n",
      "Sky Blue           35\n",
      "Sand               34\n",
      "Lemon Yellow       30\n",
      "Royal Purple        7\n",
      "Rose Pink           5\n",
      "Name: count, dtype: int64 object \n",
      " \n",
      " Duty\n",
      "-                                                               2108\n",
      "640                                                               48\n",
      "765                                                               45\n",
      "891                                                               44\n",
      "765 pound                                                         43\n",
      "                                                                ... \n",
      "I had to pay a substantial $431 levy on my new car purchase.       1\n",
      "We were surprised by the hefty $247 levy on imported cars.         1\n",
      "419 pound                                                          1\n",
      "We were surprised by the hefty $1522 levy on imported cars.        1\n",
      "965                                                                1\n",
      "Name: count, Length: 1173, dtype: int64 object \n",
      " \n",
      " fuel\n",
      "Gas                3272\n",
      "Dies               1291\n",
      "Electric Hybrid    1250\n",
      "NaN                 696\n",
      "other               307\n",
      "Natural Gas         157\n",
      "hyb                  26\n",
      "others                1\n",
      "Name: count, dtype: int64 object \n",
      " \n",
      " CylinderCount\n",
      "4.0         2638\n",
      "4.0 cyl     1631\n",
      "0            718\n",
      "6.0          627\n",
      "14.0         525\n",
      "6.0 cyl      344\n",
      "8.0          161\n",
      "16.0         107\n",
      "8.0 cyl       94\n",
      "5.0           29\n",
      "18.0          26\n",
      "5.0 cyl       19\n",
      "3.0           16\n",
      "3.0 cyl       12\n",
      "12.0           8\n",
      "2.0            7\n",
      "1.0            7\n",
      "15.0           6\n",
      "2.0 cyl        6\n",
      "12.0 cyl       4\n",
      "1.0 cyl        3\n",
      "10.0           3\n",
      "16.0 cyl       2\n",
      "11.0           2\n",
      "7.0            2\n",
      "10.0 cyl       1\n",
      "13.0           1\n",
      "9.0            1\n",
      "Name: count, dtype: int64 object \n",
      " \n",
      " type of gear\n",
      "auto      2870\n",
      "others    1228\n",
      "NaN        692\n",
      "gear       639\n",
      "R          635\n",
      "AUTO       553\n",
      "manual     320\n",
      "MANUAL      63\n",
      "Name: count, dtype: int64 object \n",
      " \n",
      " capacity\n",
      "2            1261\n",
      "2.5           765\n",
      "0             714\n",
      "1.8           609\n",
      "1.6           503\n",
      "             ... \n",
      "0.8 Turbo       1\n",
      "6.7             1\n",
      "0.3             1\n",
      "5.4 Turbo       1\n",
      "0.5             1\n",
      "Name: count, Length: 87, dtype: int64 object \n",
      " \n",
      " Odometer\n",
      "0 km                79\n",
      "0  kilo             52\n",
      "0 KM                48\n",
      "0                   30\n",
      "TOTAL 0 km          30\n",
      "                    ..\n",
      "88900                1\n",
      "16500                1\n",
      "224643 KM            1\n",
      "64274  kilometer     1\n",
      "131627               1\n",
      "Name: count, Length: 4964, dtype: int64 object \n",
      " \n",
      " #airbags\n",
      "12     830\n",
      "4      828\n",
      "0      349\n",
      "8      248\n",
      "4      233\n",
      "      ... \n",
      "1&       1\n",
      "1%       1\n",
      "2_       1\n",
      "2\"       1\n",
      "-95      1\n",
      "Name: count, Length: 321, dtype: int64 object \n",
      " \n",
      " price\n",
      "15681    121\n",
      "18817     98\n",
      "314       97\n",
      "12544     95\n",
      "392       94\n",
      "        ... \n",
      "38822      1\n",
      "31819      1\n",
      "19500      1\n",
      "16399      1\n",
      "18362      1\n",
      "Name: count, Length: 1218, dtype: int64 int64 \n",
      " \n"
     ]
    }
   ],
   "source": [
    "for col in df.columns:\n",
    "    print(f\" {df[col].value_counts(dropna=False)} {df[col].dtype} \\n \")"
   ]
  },
  {
   "cell_type": "markdown",
   "metadata": {},
   "source": [
    "there's a lot of problems in the data :\n",
    "- datatypes issuse (numerical cols)\n",
    "- same values are written in diffrent ways"
   ]
  },
  {
   "cell_type": "code",
   "execution_count": 43,
   "metadata": {},
   "outputs": [
    {
     "data": {
      "text/plain": [
       "ID                      0\n",
       "Brand                 706\n",
       "VehicleModel          697\n",
       "ManufacturingYear     695\n",
       "Type                  685\n",
       "rating                690\n",
       "color                2124\n",
       "Duty                    0\n",
       "fuel                  696\n",
       "CylinderCount           0\n",
       "type of gear          692\n",
       "capacity                0\n",
       "Odometer                0\n",
       "#airbags                0\n",
       "price                   0\n",
       "dtype: int64"
      ]
     },
     "execution_count": 43,
     "metadata": {},
     "output_type": "execute_result"
    }
   ],
   "source": [
    "df.isnull().sum()"
   ]
  },
  {
   "cell_type": "markdown",
   "metadata": {},
   "source": [
    "- missing data as well"
   ]
  },
  {
   "cell_type": "markdown",
   "metadata": {},
   "source": [
    "#### Data Cleaning"
   ]
  },
  {
   "cell_type": "markdown",
   "metadata": {},
   "source": [
    "##### removing useless columns"
   ]
  },
  {
   "cell_type": "code",
   "execution_count": 44,
   "metadata": {},
   "outputs": [],
   "source": [
    "df.drop(columns=[\"ID\"], inplace=True)"
   ]
  },
  {
   "cell_type": "markdown",
   "metadata": {},
   "source": [
    "##### Brand Column :"
   ]
  },
  {
   "cell_type": "code",
   "execution_count": 45,
   "metadata": {},
   "outputs": [],
   "source": [
    "# Replacing the NAN values with \"unknown\"\n",
    "df[\"Brand\"] = df[\"Brand\"].fillna(\"unknown\")\n",
    "\n",
    "# Lowercasing\n",
    "df[\"Brand\"] = df[\"Brand\"].apply(lambda x: \"\".join(x.lower()))"
   ]
  },
  {
   "cell_type": "code",
   "execution_count": 46,
   "metadata": {},
   "outputs": [
    {
     "data": {
      "text/plain": [
       "array(['unknown', 'toyota', 'hyundai', 'opel', 'subaru', 'volkswagen',\n",
       "       'ford', 'bmw', 'jaguar', 'honda', 'mercedes-benz', 'nissan',\n",
       "       'lexus', 'ssangyong', 'kia', 'daewoo', 'audi', 'chevrolet', 'jeep',\n",
       "       'porsche', 'mazda', 'mitsubishi', 'gmc', 'skoda', 'suzuki', 'fiat',\n",
       "       'peugeot', 'dodge', 'mini', 'vaz', 'gaz', 'cadillac', 'uaz',\n",
       "       'seat', 'rover', 'chrysler', 'land rover', 'infiniti',\n",
       "       'alfa romeo', 'renault', 'greatwall', 'buick', 'volvo', 'lincoln',\n",
       "       'scion', 'rolls-royce', 'citroen', 'pontiac', 'acura', 'daihatsu',\n",
       "       'moskvich', 'mercury'], dtype=object)"
      ]
     },
     "execution_count": 46,
     "metadata": {},
     "output_type": "execute_result"
    }
   ],
   "source": [
    "# Extracting the brand name\n",
    "def extract_text(input, correct_list):\n",
    "    for word in correct_list:\n",
    "        if re.search(r'\\b'+re.escape(word)+r'\\b',input, re.IGNORECASE):\n",
    "            return word\n",
    "    return \"unknown\"\n",
    "\n",
    "df[\"Brand\"] = df[\"Brand\"].apply(lambda x : extract_text(x,helper.brands))\n",
    "df[\"Brand\"].unique()\n"
   ]
  },
  {
   "cell_type": "markdown",
   "metadata": {},
   "source": [
    "##### VehicleModel Column :"
   ]
  },
  {
   "cell_type": "code",
   "execution_count": 47,
   "metadata": {},
   "outputs": [],
   "source": [
    "#same as the brand column I'll replace the NAN values with \"unknown\" and lowercase it\n",
    "\n",
    "df[\"VehicleModel\"] = df[\"VehicleModel\"].fillna(\"unknown\")\n",
    "\n",
    "# Lowercasing\n",
    "df[\"VehicleModel\"] = df[\"VehicleModel\"].apply(lambda x: \"\".join(x.lower()))"
   ]
  },
  {
   "cell_type": "code",
   "execution_count": 48,
   "metadata": {},
   "outputs": [
    {
     "data": {
      "text/plain": [
       "array(['6', 'unknown', 'h1', 'corsa', 'outback', 'is', 'e', 's', 'x6',\n",
       "       'xj', 'a', 'elantra', 'presage rider', 'prius', 'transit', 'astra',\n",
       "       'focus', 'insight', 'rx', 'camry', '330', 'corolla', 'forester',\n",
       "       'pathfinder', 'highlander', 'optima', 'fiesta', 'rs7', 'sonata',\n",
       "       'vectra', '328', 'x5', 'gla', 'tucson', 'zafira', '616', 'c',\n",
       "       '528', 'captiva', 'santa fe', 'ml 350', 'orlando', 'rav 4', 'gx',\n",
       "       'terra', 'jetta', 'aveo', 'gle', '520', 'land cruiser', 'yukon',\n",
       "       'cx-9', 'outlander', 'octavia', 'civic', 'ct', 'picanto', 'chr',\n",
       "       'compass', 'sprinter', 'veracruz', 'altima', 'kicks sr', 'cruze',\n",
       "       'sharan', 'es 300', 'equinox', 'fusion', '500', 'polo', 'touareg',\n",
       "       'q7', 'juke', 'venza', 'ist', 'a4', 'lacetti', 'gl', 'cherokee',\n",
       "       'cooper', 'tiguan', 'countryman', 'mustang', 'cr-v', '206',\n",
       "       'genesis', 'clk 230', 'clk 320', 'vitz', 'ats', '323', 'cls', 'z4',\n",
       "       'spark', 'malibu', 'serena', 'pajero', 'skyline 4wd', 'viano',\n",
       "       'i30', '240', 'leon', '416', 'grand vitara', 'ml 320', 'golf',\n",
       "       'accent', 'combo', '300', '2121', 'coltplus plus', 'meriva',\n",
       "       'carnival', '500c', 'a6', '500l', 'elysion', 'hs 250h', 'passat',\n",
       "       '225', 'soul', 'neon', 'sorento', 'cts', 'tourneo connect',\n",
       "       'avenger', 'a7', 'sintra', 'niro', 'cerato', 'grandeur', 'gonow',\n",
       "       'lafesta', 'cr-z', 'crosstrek', 'cayenne', 'b 170', 'tundra',\n",
       "       'sportage', 'impreza', 'legacy', 'tiida', 'a3', 'm5', '3', 'demio',\n",
       "       'note', 'g', 'impala', 'x-trail', 'laguna', 'camaro', 'ls',\n",
       "       'murano', 'durango', 'c30', 'isis', '325', 'century', 'grandis',\n",
       "       'jimny', 'cla', 'renegade', 'escort', 'gt', 'forte', 'a5', 'ram',\n",
       "       'skyline', 'rio', 'maxima', 'wizard', 'q5', 'edge', 'fuga', 'xd',\n",
       "       'x3', '200', 'step wagon', 'hilux', 'cx-7', 'lantra', 'micra',\n",
       "       'samurai', 'cc', '100', 'colt', 'wrangler', 'clio', 'sx4',\n",
       "       'altezza', 'ia isti', 'elgrand', 'vitara', 'getz', 'v50',\n",
       "       'veloster', 'xv', 'yaris', 'ka', 'kizashi', 'nubira', 'caddy',\n",
       "       'x4', 'navigator', 'mirage', '5', 'caliber', 'sienna', 'c8', 'hhr',\n",
       "       'a8', 'sentra', 'x1', 'avella', 's40', 'panamera', 'vaneo',\n",
       "       'axela', 'explorer', 'b 180', 'seicento', 'discovery', 'cl', '115',\n",
       "       'beetle', 'patrol', 'ix35', '350', '4runner', 'challenger',\n",
       "       'teana', 'kangoo', 'ramcharger', 'tlx', 'kona', 'corvette', '740',\n",
       "       'doblo', 'panda', 'passo', 'mondeo', 'rc f', 'xl7 limited',\n",
       "       'charger', 'slk', 'town car', 'xf', 'gti', 'escudo', 'megane',\n",
       "       '370z', 'mark x zio', 'm4', 'galant', 'i40', 'lx', 'lancer', 'q3',\n",
       "       'verso', 'berlingo', 'gs', 'swift', 'suburban', 'integra',\n",
       "       'journey', 'g37', 'latio', 'yrv', 'matiz', 'm550', 'fabia',\n",
       "       'accord', 'frontera', 'allroad', '2', 'enclave', 'hr-v', '307',\n",
       "       'x-type'], dtype=object)"
      ]
     },
     "execution_count": 48,
     "metadata": {},
     "output_type": "execute_result"
    }
   ],
   "source": [
    "# I'll call my method extract_text() to extract the models name\n",
    "\n",
    "df[\"VehicleModel\"] = df[\"VehicleModel\"].apply(lambda x: extract_text(x, helper.models))\n",
    "\n",
    "df[\"VehicleModel\"].unique()"
   ]
  },
  {
   "cell_type": "markdown",
   "metadata": {},
   "source": [
    "#### ManufacturingYear Column:"
   ]
  },
  {
   "cell_type": "code",
   "execution_count": 49,
   "metadata": {},
   "outputs": [
    {
     "data": {
      "text/plain": [
       "array(['2017', 0, '2009', '2007', '1999', '2012', '2011', '2014', '2015',\n",
       "       '2006', '2013', '2010', '2003', '2016', '1998', '2018', '2008',\n",
       "       '2020', '2005', '2004', '1910', '1914', 2011, '2001', '1997',\n",
       "       '1917', 2010, '1916', '1912', '2002', '2019', 2015, '1907', '2000',\n",
       "       '1996', 2013, 2012, 2014, 2018, '1913', '1900', '1902', 2017,\n",
       "       '1995', 2019, '1915', 2016, '1911', 2004, '2098', 1999, '1918',\n",
       "       1997, '1908', 2001, '1992', '2099', 2005, '1985', '1909', 2002,\n",
       "       '1905', 1992, '1983', '1904', '1993', 2008, '1994', '1988', 2000,\n",
       "       '1903', 2006, 2009, '1982', 1996, 2007, 2020, '1987', '1991', 2003,\n",
       "       '1990', '2097', 1994, '1939', '1919', '2096', 2021, 1998, '1901',\n",
       "       1954, '1986', 1985, '1920', '2089', '1984', '1906', '2093', '1978'],\n",
       "      dtype=object)"
      ]
     },
     "execution_count": 49,
     "metadata": {},
     "output_type": "execute_result"
    }
   ],
   "source": [
    "# Extracting the year\n",
    "def extract_year(text):\n",
    "    text = str(text)\n",
    "    match = re.search(r'(19|20)\\d{2}', text)\n",
    "    if match:\n",
    "        return match.group(0) \n",
    "\n",
    "    match = re.search(r'(\\d{1,2})(?=\\s*years? old)', text) \n",
    "    if match:\n",
    "        current_year = datetime.now().year\n",
    "        match = current_year - int(match.group(1))\n",
    "        return match\n",
    "    return 0\n",
    "\n",
    "\n",
    "df[\"ManufacturingYear\"] = df[\"ManufacturingYear\"].apply(extract_year)\n",
    "df[\"ManufacturingYear\"].unique()"
   ]
  },
  {
   "cell_type": "markdown",
   "metadata": {},
   "source": [
    "#### Type column :"
   ]
  },
  {
   "cell_type": "code",
   "execution_count": 50,
   "metadata": {},
   "outputs": [
    {
     "data": {
      "text/plain": [
       "array(['WOOW Sedan', 'Minivan3', 'MINIVAN', 'Hatchback', 'sedan', 'SEDAN',\n",
       "       'Pickup3', 'jeep', 'Minivan', 'HATCHBACK', 'minivan', 'hatchback',\n",
       "       'JEEP', 'microbus', nan, 'Jeep1', 'Sedan0', 'Coupe', 'Sedan3',\n",
       "       'Hatchback3', 'Sedan', 'Jeep0', 'WOOW Hatchback', 'WOOW Jeep',\n",
       "       'Hatchback1', 'WOOW Coupe', 'UNIVERSAL', 'Hatchback2', 'Jeep2',\n",
       "       'Hatchback4', 'Sedan4', 'Sedan1', 'Jeep', 'WOOW Minivan', 'Jeep4',\n",
       "       'Hatchback0', 'Goods Wagon', 'universal', 'WOOW Goods wagon',\n",
       "       'MICROBUS', 'Minivan0', 'Coupe1', 'goods wagon', 'pickup', 'Jeep3',\n",
       "       'Sedan2', 'coupe', 'Pickup1', 'COUPE', 'CABRIOLET', 'Universal0',\n",
       "       'Microbus', 'WOOW Universal', 'Goods wagon1', 'WOOW Microbus',\n",
       "       'Minivan2', 'GOODS WAGON', 'cabriolet', 'Goods wagon0', 'Coupe4',\n",
       "       'Universal', 'Goods wagon2', 'Microbus4', 'Coupe3', 'Goods wagon4',\n",
       "       'Limousine', 'PICKUP', 'Microbus0', 'Coupe0', 'Goods wagon3',\n",
       "       'Universal3', 'Minivan1', 'Microbus3', 'Microbus1', 'Universal2',\n",
       "       'Cabriolet1', 'limousine', 'Minivan4', 'Universal4', 'Coupe2',\n",
       "       'Pickup', 'Pickup0'], dtype=object)"
      ]
     },
     "execution_count": 50,
     "metadata": {},
     "output_type": "execute_result"
    }
   ],
   "source": [
    "df[\"Type\"].unique()"
   ]
  },
  {
   "cell_type": "code",
   "execution_count": 51,
   "metadata": {},
   "outputs": [
    {
     "data": {
      "text/plain": [
       "array(['sedan', 'minivan', 'hatchback', 'pickup', 'jeep', 'microbus',\n",
       "       'unknown', 'coupe', 'universal', 'goods wagon', 'cabriolet',\n",
       "       'limousine'], dtype=object)"
      ]
     },
     "execution_count": 51,
     "metadata": {},
     "output_type": "execute_result"
    }
   ],
   "source": [
    "df[\"Type\"] = df[\"Type\"].fillna(\"unknown\")\n",
    "df[\"Type\"] = df[\"Type\"].apply(lambda x: \"\".join(x.lower()))\n",
    "\n",
    "df[\"Type\"] = df[\"Type\"].apply(lambda x: re.sub(r'^woow\\s|\\d+', '', x))\n",
    "df[\"Type\"].unique()"
   ]
  },
  {
   "cell_type": "markdown",
   "metadata": {},
   "source": [
    "#### rating column :"
   ]
  },
  {
   "cell_type": "code",
   "execution_count": 52,
   "metadata": {},
   "outputs": [],
   "source": [
    "df[\"rating\"] = df[\"rating\"].fillna(0)"
   ]
  },
  {
   "cell_type": "markdown",
   "metadata": {},
   "source": [
    "#### Color Column : "
   ]
  },
  {
   "cell_type": "code",
   "execution_count": 53,
   "metadata": {},
   "outputs": [
    {
     "data": {
      "text/plain": [
       "array(['unkown', 'Metallic', 'Jet Black', 'Sapphire Blue', 'Pearl White',\n",
       "       'Charcoal', 'Gold', 'Crimson', 'Tangerine', 'Sand',\n",
       "       'Emerald Green', 'Lemon Yellow', 'Chocolate', 'Sky Blue',\n",
       "       'Ruby Red', 'Rose Pink', 'Royal Purple'], dtype=object)"
      ]
     },
     "execution_count": 53,
     "metadata": {},
     "output_type": "execute_result"
    }
   ],
   "source": [
    "df[\"color\"] = df[\"color\"].fillna(\"unkown\")\n",
    "df[\"color\"].unique()"
   ]
  },
  {
   "cell_type": "markdown",
   "metadata": {},
   "source": [
    "#### Duty Column :"
   ]
  },
  {
   "cell_type": "code",
   "execution_count": 54,
   "metadata": {},
   "outputs": [],
   "source": [
    "df[\"Duty\"] = df[\"Duty\"].apply(lambda x: ''.join(re.findall(r'\\d', x)))\n",
    "df[\"Duty\"].fillna(0)\n",
    "df[\"Duty\"].dtype\n",
    "df['Duty'] = pd.to_numeric(df['Duty'], errors='coerce')"
   ]
  },
  {
   "cell_type": "code",
   "execution_count": 55,
   "metadata": {},
   "outputs": [
    {
     "data": {
      "image/png": "[encoded data removed]",
      "text/plain": [
       "<Figure size 640x480 with 1 Axes>"
      ]
     },
     "metadata": {},
     "output_type": "display_data"
    }
   ],
   "source": [
    "# Binning cause there're too many unique values\n",
    "\n",
    "custom_bins = [0, 1000, 2000, 3000, 4000, 5000, 10000]\n",
    "df['Duty_binned'] = pd.cut(df['Duty'], bins=custom_bins, include_lowest=True)\n",
    "df = df.dropna(subset=['Duty_binned'])\n",
    "\n",
    "df['Duty_binned'] = df['Duty_binned'].astype(str)\n",
    "\n",
    "ax = sns.histplot(data=df, x='Duty_binned', shrink=0.8)\n",
    "total = len(df)\n",
    "for p in ax.patches:\n",
    "    percentage = f'{100 * p.get_height() / total:.1f}%'\n",
    "    ax.annotate(percentage, (p.get_x() + p.get_width() / 2., p.get_height()),\n",
    "                ha='center', va='center', fontsize=8, color='black', xytext=(0, 5),\n",
    "                textcoords='offset points')\n",
    "    \n",
    "plt.xticks(rotation=45, ha='right')\n",
    "plt.title('Distribution of Duty')\n",
    "plt.tight_layout()\n",
    "\n",
    "plt.show()"
   ]
  },
  {
   "cell_type": "markdown",
   "metadata": {},
   "source": [
    "- most(66%) duties are in range (0,1000)"
   ]
  },
  {
   "cell_type": "markdown",
   "metadata": {},
   "source": [
    "#### fuel Column :"
   ]
  },
  {
   "cell_type": "code",
   "execution_count": 56,
   "metadata": {},
   "outputs": [
    {
     "data": {
      "text/plain": [
       "array(['Gas', 'Dies', 'Electric Hybrid', nan, 'other', 'hyb',\n",
       "       'Natural Gas'], dtype=object)"
      ]
     },
     "execution_count": 56,
     "metadata": {},
     "output_type": "execute_result"
    }
   ],
   "source": [
    "df[\"fuel\"].unique()"
   ]
  },
  {
   "cell_type": "code",
   "execution_count": 57,
   "metadata": {},
   "outputs": [
    {
     "data": {
      "text/plain": [
       "array(['Gas', 'Dies', 'Electric Hybrid', 'other'], dtype=object)"
      ]
     },
     "execution_count": 57,
     "metadata": {},
     "output_type": "execute_result"
    }
   ],
   "source": [
    "df[\"fuel\"] = df[\"fuel\"].fillna(\"other\")\n",
    "df[\"fuel\"] = df[\"fuel\"].replace(\"Natural Gas\", \"Gas\")\n",
    "df[\"fuel\"] = df[\"fuel\"].replace(\"hyb\", \"Electric Hybrid\")\n",
    "df[\"fuel\"].unique()"
   ]
  },
  {
   "cell_type": "markdown",
   "metadata": {},
   "source": [
    "#### CylinderCount Column :"
   ]
  },
  {
   "cell_type": "code",
   "execution_count": 58,
   "metadata": {},
   "outputs": [
    {
     "data": {
      "text/plain": [
       "array(['4.0', '4.0 cyl', '8.0', '6.0 cyl', '6.0', '14.0', '0', '18.0',\n",
       "       '16.0', '8.0 cyl', '3.0', '5.0', '3.0 cyl', '15.0', '10.0',\n",
       "       '10.0 cyl', '1.0', '5.0 cyl', '12.0 cyl', '13.0', '2.0',\n",
       "       '16.0 cyl', '12.0'], dtype=object)"
      ]
     },
     "execution_count": 58,
     "metadata": {},
     "output_type": "execute_result"
    }
   ],
   "source": [
    "df[\"CylinderCount\"].unique()"
   ]
  },
  {
   "cell_type": "code",
   "execution_count": 59,
   "metadata": {},
   "outputs": [
    {
     "data": {
      "text/plain": [
       "array([ 4,  8,  6, 14,  0, 18, 16,  3,  5, 15, 10,  1, 12, 13,  2],\n",
       "      dtype=int64)"
      ]
     },
     "execution_count": 59,
     "metadata": {},
     "output_type": "execute_result"
    }
   ],
   "source": [
    "df[\"CylinderCount_updated\"] = df[\"CylinderCount\"].apply(lambda x: ''.join(re.findall(r'^\\d+', x)))\n",
    "df[\"CylinderCount_updated\"].fillna(0)\n",
    "df[\"CylinderCount\"] = pd.to_numeric(df[\"CylinderCount_updated\"])\n",
    "df[\"CylinderCount\"].unique()"
   ]
  },
  {
   "cell_type": "markdown",
   "metadata": {},
   "source": [
    "#### type of gear Column :"
   ]
  },
  {
   "cell_type": "code",
   "execution_count": 60,
   "metadata": {},
   "outputs": [
    {
     "data": {
      "text/plain": [
       "array(['R', nan, 'auto', 'others', 'AUTO', 'gear', 'manual', 'MANUAL'],\n",
       "      dtype=object)"
      ]
     },
     "execution_count": 60,
     "metadata": {},
     "output_type": "execute_result"
    }
   ],
   "source": [
    "df[\"type of gear\"].unique()"
   ]
  },
  {
   "cell_type": "code",
   "execution_count": 61,
   "metadata": {},
   "outputs": [
    {
     "data": {
      "text/plain": [
       "array(['reverse', 'others', 'auto', 'manual'], dtype=object)"
      ]
     },
     "execution_count": 61,
     "metadata": {},
     "output_type": "execute_result"
    }
   ],
   "source": [
    "df[\"type of gear\"] = df[\"type of gear\"].fillna(\"others\")\n",
    "df[\"type of gear\"] = df[\"type of gear\"].apply(lambda x: \"\".join(x.lower()))\n",
    "df[\"type of gear\"] = df[\"type of gear\"].replace('r', 'reverse')\n",
    "df[\"type of gear\"] = df[\"type of gear\"].replace('gear', 'others')\n",
    "df[\"type of gear\"].unique()"
   ]
  },
  {
   "cell_type": "markdown",
   "metadata": {},
   "source": [
    "#### Capacity Column :"
   ]
  },
  {
   "cell_type": "code",
   "execution_count": 62,
   "metadata": {},
   "outputs": [
    {
     "data": {
      "text/plain": [
       "array(['2.5', '2', '5', '3', '0', '3.5', '1.6', '1.5', '1.3', '1.8',\n",
       "       '2.4', '2.7', '2.5 Turbo', '3.3', '1.7', '4', '1.2', '2.3',\n",
       "       '1.6 Turbo', '4.7', '2.0 Turbo', '1.4', '5.5', '6.2', '4.6', '3.7',\n",
       "       '1', '3.6', '4.4', '1.8 Turbo', '2.2 Turbo', '2.2', '1.5 Turbo',\n",
       "       '1.4 Turbo', '5.7', '3.0 Turbo', '4.8', '2.8 Turbo', '0.4',\n",
       "       '2.4 Turbo', '0.2', '1.7 Turbo', '3.8', '3.2', '0.1', '6.7', '4.5',\n",
       "       '3.5 Turbo', '2.1', '0.7', '5.3', '4.4 Turbo', '0.8 Turbo',\n",
       "       '1.3 Turbo', '4.7 Turbo', '1.9 Turbo', '5.6', '1.9', '5.2', '0.8',\n",
       "       '2.7 Turbo', '4.3'], dtype=object)"
      ]
     },
     "execution_count": 62,
     "metadata": {},
     "output_type": "execute_result"
    }
   ],
   "source": [
    "df[\"capacity\"].unique()"
   ]
  },
  {
   "cell_type": "code",
   "execution_count": 63,
   "metadata": {},
   "outputs": [
    {
     "data": {
      "text/plain": [
       "array([2.5, 0. , 3.5, 1.6, 1.5, 1.3, 1.8, 2.4, 2.7, 3.3, 1.7, 1.2, 2.3,\n",
       "       4.7, 2. , 1.4, 5.5, 6.2, 4.6, 3.7, 3.6, 4.4, 2.2, 5.7, 3. , 4.8,\n",
       "       2.8, 0.4, 0.2, 3.8, 3.2, 0.1, 6.7, 4.5, 2.1, 0.7, 5.3, 0.8, 1.9,\n",
       "       5.6, 5.2, 4.3])"
      ]
     },
     "execution_count": 63,
     "metadata": {},
     "output_type": "execute_result"
    }
   ],
   "source": [
    "df[\"capacity_updated\"] = df[\"capacity\"].apply(lambda x: ''.join(re.findall(r'\\d\\.\\d', x)))\n",
    "#df[\"capacity_updated\"].unique()\n",
    "df[\"capacity\"] = pd.to_numeric(df[\"capacity_updated\"])\n",
    "df[\"capacity\"] = df[\"capacity\"].fillna(0)\n",
    "df.drop(columns=[\"capacity_updated\"], inplace=True)\n",
    "df[\"capacity\"].unique()"
   ]
  },
  {
   "cell_type": "markdown",
   "metadata": {},
   "source": [
    "#### Odometer Column :"
   ]
  },
  {
   "cell_type": "code",
   "execution_count": 64,
   "metadata": {},
   "outputs": [
    {
     "name": "stdout",
     "output_type": "stream",
     "text": [
      "0\n"
     ]
    },
    {
     "data": {
      "text/plain": [
       "0             75492 KM\n",
       "2       TOTAL 50653 km\n",
       "5             66000 KM\n",
       "7         150000  kilo\n",
       "10            54429 km\n",
       "             ...      \n",
       "6995      156802  kilo\n",
       "6996         110715 km\n",
       "6997         314373 KM\n",
       "6998          80000 km\n",
       "6999            131627\n",
       "Name: Odometer, Length: 4196, dtype: object"
      ]
     },
     "execution_count": 64,
     "metadata": {},
     "output_type": "execute_result"
    }
   ],
   "source": [
    "print(df[\"Odometer\"].isna().sum())\n",
    "df[\"Odometer\"]"
   ]
  },
  {
   "cell_type": "code",
   "execution_count": 65,
   "metadata": {},
   "outputs": [],
   "source": [
    "df[\"odometer_updated\"] = df[\"Odometer\"].apply(lambda x: ''.join(re.findall(r'\\d', x)))\n",
    "df[\"odometer_updated\"].unique()\n",
    "df[\"Odometer\"] = pd.to_numeric(df[\"odometer_updated\"])\n",
    "df.drop(columns=[\"odometer_updated\"], inplace=True)"
   ]
  },
  {
   "cell_type": "code",
   "execution_count": 66,
   "metadata": {},
   "outputs": [
    {
     "data": {
      "image/png": "[encoded data removed]",
      "text/plain": [
       "<Figure size 1000x600 with 1 Axes>"
      ]
     },
     "metadata": {},
     "output_type": "display_data"
    }
   ],
   "source": [
    "# Log-transform for better scaling \n",
    "df[\"log_odometer\"] = np.log1p(df[\"Odometer\"])\n",
    "\n",
    "plt.figure(figsize=(10, 6))\n",
    "sns.histplot(df[\"log_odometer\"] , bins=30, kde=True)\n",
    "plt.title('log transformed odometer Distribution')\n",
    "plt.xlabel('log(odometer + 1)')\n",
    "plt.ylabel('Frequency')\n",
    "plt.grid(True)\n",
    "plt.show()"
   ]
  },
  {
   "cell_type": "markdown",
   "metadata": {},
   "source": [
    "#### #airbags Column :"
   ]
  },
  {
   "cell_type": "code",
   "execution_count": 67,
   "metadata": {},
   "outputs": [
    {
     "data": {
      "text/plain": [
       "array(['1008', '4 count', '12', '8', '12,', '106', '12<', '4', '6 count',\n",
       "       'ONLY 4 AIRBAG', '1012', '12 bags', '4 bags', '8 count',\n",
       "       'ONLY 0 AIRBAG', '12/', '10', '12)', '-100', 'ONLY 12 AIRBAG',\n",
       "       '12  ', '108', '4<', '12|', 'ONLY 8 AIRBAG', '0', '12`', '4]',\n",
       "       '8$', '2 count', '-88', '10 count', '4  ', '12>', '6  ', '2', '11',\n",
       "       '4&', '0 count', '4#', '104', '8 bags', '12~', '6', '4!',\n",
       "       '12 count', '6?', '-92', '112', '100', '-96', '1004', '9', '4$',\n",
       "       '6 bags', '4,', '-90', 'ONLY 2 AIRBAG', '0~', \"8'\", '2 bags', '4[',\n",
       "       '-94', '10 bags', '0  ', '8&', '0 bags', '12#', \"0'\", '2*', '4(',\n",
       "       '8@', '-98', '4_', \"4'\", '10  ', '12&', '7', '12}', '6\"', '6:',\n",
       "       '4;', '12$', '8(', '4`', '7  ', '12+', '6/', 'ONLY 6 AIRBAG', '4|',\n",
       "       '12@', '4:', 'ONLY 10 AIRBAG', '0^', '1000', '4+', '12_', '0|',\n",
       "       '12.', '14', '0)', '12]', 'ONLY 11 AIRBAG', \"12'\", '0>', '12%',\n",
       "       '116', '4=', '0,', '12(', '8:', '14  ', '0_', '4-', '8  ', '0%',\n",
       "       '1002', '0(', '16', '0;', '0.', '6-', '0]', '4>', '4@', '14;',\n",
       "       '10%', '10,', '10@', '4\"', '5  ', '7 count', '110',\n",
       "       'ONLY 16 AIRBAG', '0\"', '2  ', '4~', '0[', '12*', '10;',\n",
       "       '16 count', '0!', '8\\\\', '12\\\\', '4}', '1007', '12\"', '12:', '0*',\n",
       "       '7|', '4?', '102', '4/', '1010', '0+', '12-', '12{', '4*', '1016',\n",
       "       '8!', \"7'\", '4)', '0=', '1006', '1 bags', '12^', '8<', '12!',\n",
       "       'ONLY 3 AIRBAG', '12?', '0}', '5 count', '4^', '4.', '0$', '9[',\n",
       "       '0:', '2$', '8-', '10[', '0#', '4\\\\', '8/', '7 bags', '8;', '12=',\n",
       "       '9 bags', '0/', '4%', \"10'\", '6<', '5 bags', '8%', '12[', '111',\n",
       "       '0<', '2=', '4{', '0@', '9?', '2[', '0{', '6}', '8*', '12;', '10(',\n",
       "       '11  ', 'ONLY 7 AIRBAG', '0?', '107', '8)', '15 count', '0-', '8>',\n",
       "       '16 bags', '16  ', '5'], dtype=object)"
      ]
     },
     "execution_count": 67,
     "metadata": {},
     "output_type": "execute_result"
    }
   ],
   "source": [
    "df[\"#airbags\"].unique()"
   ]
  },
  {
   "cell_type": "code",
   "execution_count": null,
   "metadata": {},
   "outputs": [
    {
     "ename": "TypeError",
     "evalue": "expected string or bytes-like object, got 'int'",
     "output_type": "error",
     "traceback": [
      "\u001b[1;31m---------------------------------------------------------------------------\u001b[0m",
      "\u001b[1;31mTypeError\u001b[0m                                 Traceback (most recent call last)",
      "Cell \u001b[1;32mIn[69], line 1\u001b[0m\n\u001b[1;32m----> 1\u001b[0m df[\u001b[38;5;124m\"\u001b[39m\u001b[38;5;124m#airbags_updated\u001b[39m\u001b[38;5;124m\"\u001b[39m] \u001b[38;5;241m=\u001b[39m df[\u001b[38;5;124m\"\u001b[39m\u001b[38;5;124m#airbags\u001b[39m\u001b[38;5;124m\"\u001b[39m]\u001b[38;5;241m.\u001b[39mapply(\u001b[38;5;28;01mlambda\u001b[39;00m x: \u001b[38;5;124m'\u001b[39m\u001b[38;5;124m'\u001b[39m\u001b[38;5;241m.\u001b[39mjoin(re\u001b[38;5;241m.\u001b[39mfindall(\u001b[38;5;124mr\u001b[39m\u001b[38;5;124m'\u001b[39m\u001b[38;5;124m\\\u001b[39m\u001b[38;5;124md\u001b[39m\u001b[38;5;124m'\u001b[39m, x)))\n\u001b[0;32m      2\u001b[0m df[\u001b[38;5;124m\"\u001b[39m\u001b[38;5;124m#airbags\u001b[39m\u001b[38;5;124m\"\u001b[39m] \u001b[38;5;241m=\u001b[39m pd\u001b[38;5;241m.\u001b[39mto_numeric(df[\u001b[38;5;124m\"\u001b[39m\u001b[38;5;124m#airbags_updated\u001b[39m\u001b[38;5;124m\"\u001b[39m])\n\u001b[0;32m      3\u001b[0m df[\u001b[38;5;124m\"\u001b[39m\u001b[38;5;124m#airbags\u001b[39m\u001b[38;5;124m\"\u001b[39m] \u001b[38;5;241m=\u001b[39m df[\u001b[38;5;124m\"\u001b[39m\u001b[38;5;124m#airbags\u001b[39m\u001b[38;5;124m\"\u001b[39m]\u001b[38;5;241m.\u001b[39mfillna(\u001b[38;5;241m0\u001b[39m)\n",
      "File \u001b[1;32mc:\\Users\\samam\\anaconda3\\Lib\\site-packages\\pandas\\core\\series.py:4924\u001b[0m, in \u001b[0;36mSeries.apply\u001b[1;34m(self, func, convert_dtype, args, by_row, **kwargs)\u001b[0m\n\u001b[0;32m   4789\u001b[0m \u001b[38;5;28;01mdef\u001b[39;00m \u001b[38;5;21mapply\u001b[39m(\n\u001b[0;32m   4790\u001b[0m     \u001b[38;5;28mself\u001b[39m,\n\u001b[0;32m   4791\u001b[0m     func: AggFuncType,\n\u001b[1;32m   (...)\u001b[0m\n\u001b[0;32m   4796\u001b[0m     \u001b[38;5;241m*\u001b[39m\u001b[38;5;241m*\u001b[39mkwargs,\n\u001b[0;32m   4797\u001b[0m ) \u001b[38;5;241m-\u001b[39m\u001b[38;5;241m>\u001b[39m DataFrame \u001b[38;5;241m|\u001b[39m Series:\n\u001b[0;32m   4798\u001b[0m \u001b[38;5;250m    \u001b[39m\u001b[38;5;124;03m\"\"\"\u001b[39;00m\n\u001b[0;32m   4799\u001b[0m \u001b[38;5;124;03m    Invoke function on values of Series.\u001b[39;00m\n\u001b[0;32m   4800\u001b[0m \n\u001b[1;32m   (...)\u001b[0m\n\u001b[0;32m   4915\u001b[0m \u001b[38;5;124;03m    dtype: float64\u001b[39;00m\n\u001b[0;32m   4916\u001b[0m \u001b[38;5;124;03m    \"\"\"\u001b[39;00m\n\u001b[0;32m   4917\u001b[0m     \u001b[38;5;28;01mreturn\u001b[39;00m SeriesApply(\n\u001b[0;32m   4918\u001b[0m         \u001b[38;5;28mself\u001b[39m,\n\u001b[0;32m   4919\u001b[0m         func,\n\u001b[0;32m   4920\u001b[0m         convert_dtype\u001b[38;5;241m=\u001b[39mconvert_dtype,\n\u001b[0;32m   4921\u001b[0m         by_row\u001b[38;5;241m=\u001b[39mby_row,\n\u001b[0;32m   4922\u001b[0m         args\u001b[38;5;241m=\u001b[39margs,\n\u001b[0;32m   4923\u001b[0m         kwargs\u001b[38;5;241m=\u001b[39mkwargs,\n\u001b[1;32m-> 4924\u001b[0m     )\u001b[38;5;241m.\u001b[39mapply()\n",
      "File \u001b[1;32mc:\\Users\\samam\\anaconda3\\Lib\\site-packages\\pandas\\core\\apply.py:1427\u001b[0m, in \u001b[0;36mSeriesApply.apply\u001b[1;34m(self)\u001b[0m\n\u001b[0;32m   1424\u001b[0m     \u001b[38;5;28;01mreturn\u001b[39;00m \u001b[38;5;28mself\u001b[39m\u001b[38;5;241m.\u001b[39mapply_compat()\n\u001b[0;32m   1426\u001b[0m \u001b[38;5;66;03m# self.func is Callable\u001b[39;00m\n\u001b[1;32m-> 1427\u001b[0m \u001b[38;5;28;01mreturn\u001b[39;00m \u001b[38;5;28mself\u001b[39m\u001b[38;5;241m.\u001b[39mapply_standard()\n",
      "File \u001b[1;32mc:\\Users\\samam\\anaconda3\\Lib\\site-packages\\pandas\\core\\apply.py:1507\u001b[0m, in \u001b[0;36mSeriesApply.apply_standard\u001b[1;34m(self)\u001b[0m\n\u001b[0;32m   1501\u001b[0m \u001b[38;5;66;03m# row-wise access\u001b[39;00m\n\u001b[0;32m   1502\u001b[0m \u001b[38;5;66;03m# apply doesn't have a `na_action` keyword and for backward compat reasons\u001b[39;00m\n\u001b[0;32m   1503\u001b[0m \u001b[38;5;66;03m# we need to give `na_action=\"ignore\"` for categorical data.\u001b[39;00m\n\u001b[0;32m   1504\u001b[0m \u001b[38;5;66;03m# TODO: remove the `na_action=\"ignore\"` when that default has been changed in\u001b[39;00m\n\u001b[0;32m   1505\u001b[0m \u001b[38;5;66;03m#  Categorical (GH51645).\u001b[39;00m\n\u001b[0;32m   1506\u001b[0m action \u001b[38;5;241m=\u001b[39m \u001b[38;5;124m\"\u001b[39m\u001b[38;5;124mignore\u001b[39m\u001b[38;5;124m\"\u001b[39m \u001b[38;5;28;01mif\u001b[39;00m \u001b[38;5;28misinstance\u001b[39m(obj\u001b[38;5;241m.\u001b[39mdtype, CategoricalDtype) \u001b[38;5;28;01melse\u001b[39;00m \u001b[38;5;28;01mNone\u001b[39;00m\n\u001b[1;32m-> 1507\u001b[0m mapped \u001b[38;5;241m=\u001b[39m obj\u001b[38;5;241m.\u001b[39m_map_values(\n\u001b[0;32m   1508\u001b[0m     mapper\u001b[38;5;241m=\u001b[39mcurried, na_action\u001b[38;5;241m=\u001b[39maction, convert\u001b[38;5;241m=\u001b[39m\u001b[38;5;28mself\u001b[39m\u001b[38;5;241m.\u001b[39mconvert_dtype\n\u001b[0;32m   1509\u001b[0m )\n\u001b[0;32m   1511\u001b[0m \u001b[38;5;28;01mif\u001b[39;00m \u001b[38;5;28mlen\u001b[39m(mapped) \u001b[38;5;129;01mand\u001b[39;00m \u001b[38;5;28misinstance\u001b[39m(mapped[\u001b[38;5;241m0\u001b[39m], ABCSeries):\n\u001b[0;32m   1512\u001b[0m     \u001b[38;5;66;03m# GH#43986 Need to do list(mapped) in order to get treated as nested\u001b[39;00m\n\u001b[0;32m   1513\u001b[0m     \u001b[38;5;66;03m#  See also GH#25959 regarding EA support\u001b[39;00m\n\u001b[0;32m   1514\u001b[0m     \u001b[38;5;28;01mreturn\u001b[39;00m obj\u001b[38;5;241m.\u001b[39m_constructor_expanddim(\u001b[38;5;28mlist\u001b[39m(mapped), index\u001b[38;5;241m=\u001b[39mobj\u001b[38;5;241m.\u001b[39mindex)\n",
      "File \u001b[1;32mc:\\Users\\samam\\anaconda3\\Lib\\site-packages\\pandas\\core\\base.py:921\u001b[0m, in \u001b[0;36mIndexOpsMixin._map_values\u001b[1;34m(self, mapper, na_action, convert)\u001b[0m\n\u001b[0;32m    918\u001b[0m \u001b[38;5;28;01mif\u001b[39;00m \u001b[38;5;28misinstance\u001b[39m(arr, ExtensionArray):\n\u001b[0;32m    919\u001b[0m     \u001b[38;5;28;01mreturn\u001b[39;00m arr\u001b[38;5;241m.\u001b[39mmap(mapper, na_action\u001b[38;5;241m=\u001b[39mna_action)\n\u001b[1;32m--> 921\u001b[0m \u001b[38;5;28;01mreturn\u001b[39;00m algorithms\u001b[38;5;241m.\u001b[39mmap_array(arr, mapper, na_action\u001b[38;5;241m=\u001b[39mna_action, convert\u001b[38;5;241m=\u001b[39mconvert)\n",
      "File \u001b[1;32mc:\\Users\\samam\\anaconda3\\Lib\\site-packages\\pandas\\core\\algorithms.py:1743\u001b[0m, in \u001b[0;36mmap_array\u001b[1;34m(arr, mapper, na_action, convert)\u001b[0m\n\u001b[0;32m   1741\u001b[0m values \u001b[38;5;241m=\u001b[39m arr\u001b[38;5;241m.\u001b[39mastype(\u001b[38;5;28mobject\u001b[39m, copy\u001b[38;5;241m=\u001b[39m\u001b[38;5;28;01mFalse\u001b[39;00m)\n\u001b[0;32m   1742\u001b[0m \u001b[38;5;28;01mif\u001b[39;00m na_action \u001b[38;5;129;01mis\u001b[39;00m \u001b[38;5;28;01mNone\u001b[39;00m:\n\u001b[1;32m-> 1743\u001b[0m     \u001b[38;5;28;01mreturn\u001b[39;00m lib\u001b[38;5;241m.\u001b[39mmap_infer(values, mapper, convert\u001b[38;5;241m=\u001b[39mconvert)\n\u001b[0;32m   1744\u001b[0m \u001b[38;5;28;01melse\u001b[39;00m:\n\u001b[0;32m   1745\u001b[0m     \u001b[38;5;28;01mreturn\u001b[39;00m lib\u001b[38;5;241m.\u001b[39mmap_infer_mask(\n\u001b[0;32m   1746\u001b[0m         values, mapper, mask\u001b[38;5;241m=\u001b[39misna(values)\u001b[38;5;241m.\u001b[39mview(np\u001b[38;5;241m.\u001b[39muint8), convert\u001b[38;5;241m=\u001b[39mconvert\n\u001b[0;32m   1747\u001b[0m     )\n",
      "File \u001b[1;32mlib.pyx:2972\u001b[0m, in \u001b[0;36mpandas._libs.lib.map_infer\u001b[1;34m()\u001b[0m\n",
      "Cell \u001b[1;32mIn[69], line 1\u001b[0m, in \u001b[0;36m<lambda>\u001b[1;34m(x)\u001b[0m\n\u001b[1;32m----> 1\u001b[0m df[\u001b[38;5;124m\"\u001b[39m\u001b[38;5;124m#airbags_updated\u001b[39m\u001b[38;5;124m\"\u001b[39m] \u001b[38;5;241m=\u001b[39m df[\u001b[38;5;124m\"\u001b[39m\u001b[38;5;124m#airbags\u001b[39m\u001b[38;5;124m\"\u001b[39m]\u001b[38;5;241m.\u001b[39mapply(\u001b[38;5;28;01mlambda\u001b[39;00m x: \u001b[38;5;124m'\u001b[39m\u001b[38;5;124m'\u001b[39m\u001b[38;5;241m.\u001b[39mjoin(re\u001b[38;5;241m.\u001b[39mfindall(\u001b[38;5;124mr\u001b[39m\u001b[38;5;124m'\u001b[39m\u001b[38;5;124m\\\u001b[39m\u001b[38;5;124md\u001b[39m\u001b[38;5;124m'\u001b[39m, x)))\n\u001b[0;32m      2\u001b[0m df[\u001b[38;5;124m\"\u001b[39m\u001b[38;5;124m#airbags\u001b[39m\u001b[38;5;124m\"\u001b[39m] \u001b[38;5;241m=\u001b[39m pd\u001b[38;5;241m.\u001b[39mto_numeric(df[\u001b[38;5;124m\"\u001b[39m\u001b[38;5;124m#airbags_updated\u001b[39m\u001b[38;5;124m\"\u001b[39m])\n\u001b[0;32m      3\u001b[0m df[\u001b[38;5;124m\"\u001b[39m\u001b[38;5;124m#airbags\u001b[39m\u001b[38;5;124m\"\u001b[39m] \u001b[38;5;241m=\u001b[39m df[\u001b[38;5;124m\"\u001b[39m\u001b[38;5;124m#airbags\u001b[39m\u001b[38;5;124m\"\u001b[39m]\u001b[38;5;241m.\u001b[39mfillna(\u001b[38;5;241m0\u001b[39m)\n",
      "File \u001b[1;32mc:\\Users\\samam\\anaconda3\\Lib\\re\\__init__.py:216\u001b[0m, in \u001b[0;36mfindall\u001b[1;34m(pattern, string, flags)\u001b[0m\n\u001b[0;32m    208\u001b[0m \u001b[38;5;28;01mdef\u001b[39;00m \u001b[38;5;21mfindall\u001b[39m(pattern, string, flags\u001b[38;5;241m=\u001b[39m\u001b[38;5;241m0\u001b[39m):\n\u001b[0;32m    209\u001b[0m \u001b[38;5;250m    \u001b[39m\u001b[38;5;124;03m\"\"\"Return a list of all non-overlapping matches in the string.\u001b[39;00m\n\u001b[0;32m    210\u001b[0m \n\u001b[0;32m    211\u001b[0m \u001b[38;5;124;03m    If one or more capturing groups are present in the pattern, return\u001b[39;00m\n\u001b[1;32m   (...)\u001b[0m\n\u001b[0;32m    214\u001b[0m \n\u001b[0;32m    215\u001b[0m \u001b[38;5;124;03m    Empty matches are included in the result.\"\"\"\u001b[39;00m\n\u001b[1;32m--> 216\u001b[0m     \u001b[38;5;28;01mreturn\u001b[39;00m _compile(pattern, flags)\u001b[38;5;241m.\u001b[39mfindall(string)\n",
      "\u001b[1;31mTypeError\u001b[0m: expected string or bytes-like object, got 'int'"
     ]
    }
   ],
   "source": [
    "df[\"#airbags_updated\"] = df[\"#airbags\"].apply(lambda x: ''.join(re.findall(r'\\d', x)))\n",
    "df[\"#airbags\"] = pd.to_numeric(df[\"#airbags_updated\"])\n",
    "df[\"#airbags\"] = df[\"#airbags\"].fillna(0)\n"
   ]
  },
  {
   "cell_type": "code",
   "execution_count": 74,
   "metadata": {},
   "outputs": [
    {
     "data": {
      "text/plain": [
       "#airbags\n",
       "12    1388\n",
       "4     1303\n",
       "0      907\n",
       "8      225\n",
       "10     140\n",
       "6      119\n",
       "2       62\n",
       "7       13\n",
       "11      10\n",
       "16      10\n",
       "9        7\n",
       "5        6\n",
       "14       3\n",
       "1        1\n",
       "3        1\n",
       "15       1\n",
       "Name: count, dtype: int64"
      ]
     },
     "execution_count": 74,
     "metadata": {},
     "output_type": "execute_result"
    }
   ],
   "source": [
    "df[\"#airbags\"].value_counts()"
   ]
  },
  {
   "cell_type": "markdown",
   "metadata": {},
   "source": [
    "- the data values are unreasonable"
   ]
  },
  {
   "cell_type": "code",
   "execution_count": 75,
   "metadata": {},
   "outputs": [
    {
     "data": {
      "text/plain": [
       "#airbags\n",
       "12    1388\n",
       "4     1303\n",
       "0      907\n",
       "8      225\n",
       "10     140\n",
       "6      119\n",
       "2       62\n",
       "7       13\n",
       "11      10\n",
       "16      10\n",
       "9        7\n",
       "5        6\n",
       "14       3\n",
       "1        1\n",
       "3        1\n",
       "15       1\n",
       "Name: count, dtype: int64"
      ]
     },
     "execution_count": 75,
     "metadata": {},
     "output_type": "execute_result"
    }
   ],
   "source": [
    "df[\"#airbags\"] = df[\"#airbags\"].apply(lambda x: x if x<20 else 0)\n",
    "df[\"#airbags\"].value_counts()"
   ]
  },
  {
   "cell_type": "markdown",
   "metadata": {},
   "source": [
    "#### Price Column :"
   ]
  },
  {
   "cell_type": "code",
   "execution_count": 77,
   "metadata": {},
   "outputs": [
    {
     "data": {
      "text/plain": [
       "0"
      ]
     },
     "execution_count": 77,
     "metadata": {},
     "output_type": "execute_result"
    }
   ],
   "source": [
    "df[\"price\"].isna().sum()"
   ]
  },
  {
   "cell_type": "code",
   "execution_count": 78,
   "metadata": {},
   "outputs": [
    {
     "data": {
      "image/png": "[encoded data removed]",
      "text/plain": [
       "<Figure size 1000x600 with 1 Axes>"
      ]
     },
     "metadata": {},
     "output_type": "display_data"
    }
   ],
   "source": [
    "plt.figure(figsize=(10, 6))\n",
    "sns.histplot(df[\"price\"] , bins=30, kde=True)\n",
    "plt.title('Price Distribution')\n",
    "plt.xlabel('Price')\n",
    "plt.ylabel('Frequency')\n",
    "plt.grid(True)\n",
    "plt.show()"
   ]
  },
  {
   "cell_type": "code",
   "execution_count": 81,
   "metadata": {},
   "outputs": [
    {
     "data": {
      "image/png": "[encoded data removed]",
      "text/plain": [
       "<Figure size 1000x600 with 1 Axes>"
      ]
     },
     "metadata": {},
     "output_type": "display_data"
    }
   ],
   "source": [
    "# Trying out log trnsformation on it  \n",
    "df[\"log_price\"] = np.log(df[\"price\"])\n",
    "\n",
    "plt.figure(figsize=(10, 6))\n",
    "sns.histplot(df[\"log_price\"] , bins=30, kde=True)\n",
    "plt.title('log transformed price Distribution')\n",
    "plt.xlabel('log(price)')\n",
    "plt.ylabel('Frequency')\n",
    "plt.grid(True)\n",
    "plt.show()"
   ]
  },
  {
   "cell_type": "code",
   "execution_count": null,
   "metadata": {},
   "outputs": [],
   "source": []
  },
  {
   "cell_type": "code",
   "execution_count": null,
   "metadata": {},
   "outputs": [],
   "source": []
  }
 ],
 "metadata": {
  "kernelspec": {
   "display_name": "base",
   "language": "python",
   "name": "python3"
  },
  "language_info": {
   "codemirror_mode": {
    "name": "ipython",
    "version": 3
   },
   "file_extension": ".py",
   "mimetype": "text/x-python",
   "name": "python",
   "nbconvert_exporter": "python",
   "pygments_lexer": "ipython3",
   "version": "3.11.5"
  }
 },
 "nbformat": 4,
 "nbformat_minor": 2
}
