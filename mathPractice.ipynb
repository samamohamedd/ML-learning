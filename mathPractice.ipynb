{
 "cells": [
  {
   "cell_type": "code",
   "execution_count": 1,
   "metadata": {},
   "outputs": [],
   "source": [
    "import numpy as np "
   ]
  },
  {
   "cell_type": "code",
   "execution_count": 2,
   "metadata": {},
   "outputs": [
    {
     "data": {
      "text/plain": [
       "12"
      ]
     },
     "execution_count": 2,
     "metadata": {},
     "output_type": "execute_result"
    }
   ],
   "source": [
    "x = np.array([6, 2, -1])\n",
    "y = np.array([5, -8, 2])\n",
    "res = np.dot(x, y)\n",
    "res"
   ]
  },
  {
   "cell_type": "code",
   "execution_count": 3,
   "metadata": {},
   "outputs": [
    {
     "data": {
      "text/plain": [
       "258"
      ]
     },
     "execution_count": 3,
     "metadata": {},
     "output_type": "execute_result"
    }
   ],
   "source": [
    "total_apples = 13+9+7+15\n",
    "total_charries = 8+7+4+6\n",
    "total_burries = 6+4+3\n",
    "\n",
    "total_sold = np.array([total_apples, total_charries, total_burries])\n",
    "prices = np.array([3,4,2])\n",
    "\n",
    "res = np.dot(total_sold, prices)\n",
    "res"
   ]
  },
  {
   "cell_type": "code",
   "execution_count": 8,
   "metadata": {},
   "outputs": [],
   "source": [
    "import sympy as sp \n",
    "from scipy.stats import iqr"
   ]
  },
  {
   "cell_type": "code",
   "execution_count": 5,
   "metadata": {},
   "outputs": [
    {
     "data": {
      "text/latex": [
       "$\\displaystyle \\frac{2 x}{x^{2} - 1}$"
      ],
      "text/plain": [
       "2*x/(x**2 - 1)"
      ]
     },
     "execution_count": 5,
     "metadata": {},
     "output_type": "execute_result"
    }
   ],
   "source": [
    "x = sp.Symbol('x')\n",
    "f= sp.ln(x**2-1)\n",
    "dfdx = sp.diff(f,x)\n",
    "dfdx"
   ]
  },
  {
   "cell_type": "code",
   "execution_count": 9,
   "metadata": {},
   "outputs": [
    {
     "data": {
      "text/plain": [
       "(4, (array([4, 5, 6, 7, 8]), [0.25, 0.5, 0.75]), 2.0, 1.4142135623730951, 2.0)"
      ]
     },
     "execution_count": 9,
     "metadata": {},
     "output_type": "execute_result"
    }
   ],
   "source": [
    "a = np.array([4,5,6,7,8])\n",
    "a_range = np.max(a) - np.min(a)\n",
    "a_quantiles = (a, [0.25, 0.5, 0.75])\n",
    "a_iqr = iqr(a)\n",
    "a_std = np.std(a)\n",
    "a_var = np.var(a)\n",
    "a_range, a_quantiles, a_iqr, a_std, a_var"
   ]
  },
  {
   "cell_type": "code",
   "execution_count": 10,
   "metadata": {},
   "outputs": [
    {
     "data": {
      "text/plain": [
       "(10,\n",
       " (array([ 1,  2,  3,  4,  5,  6,  7,  8,  9, 10, 11]), [0.25, 0.5, 0.75]),\n",
       " 5.0,\n",
       " 3.1622776601683795,\n",
       " 10.0)"
      ]
     },
     "execution_count": 10,
     "metadata": {},
     "output_type": "execute_result"
    }
   ],
   "source": [
    "b = np.array([1,2,3,4,5,6,7,8,9,10,11])\n",
    "b_range = np.max(b) - np.min(b)\n",
    "b_quantiles = (b, [0.25, 0.5, 0.75])\n",
    "b_iqr = iqr(b)\n",
    "b_std = np.std(b)\n",
    "b_var = np.var(b)\n",
    "b_range, b_quantiles, b_iqr, b_std, b_var"
   ]
  },
  {
   "cell_type": "code",
   "execution_count": null,
   "metadata": {},
   "outputs": [],
   "source": []
  }
 ],
 "metadata": {
  "kernelspec": {
   "display_name": "base",
   "language": "python",
   "name": "python3"
  },
  "language_info": {
   "codemirror_mode": {
    "name": "ipython",
    "version": 3
   },
   "file_extension": ".py",
   "mimetype": "text/x-python",
   "name": "python",
   "nbconvert_exporter": "python",
   "pygments_lexer": "ipython3",
   "version": "3.11.5"
  }
 },
 "nbformat": 4,
 "nbformat_minor": 2
}
